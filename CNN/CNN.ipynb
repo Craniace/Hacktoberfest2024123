{
  "cells": [
    {
      "cell_type": "code",
      "execution_count": 1,
      "metadata": {
        "id": "Z2y5MpuKbmQi"
      },
      "outputs": [],
      "source": [
        "import torch\n",
        "from torchvision.datasets import CIFAR10\n",
        "import torch.nn as nn\n",
        "import torch.nn.functional as F\n",
        "import torchvision.transforms as transforms\n",
        "from torch.utils.data import DataLoader\n",
        "from torchsummary import summary\n",
        "from torchvision.utils import make_grid\n",
        "import numpy as np\n",
        "import matplotlib.pyplot as plt"
      ]
    },
    {
      "cell_type": "code",
      "execution_count": 2,
      "metadata": {
        "colab": {
          "base_uri": "https://localhost:8080/"
        },
        "id": "r8OeiB8zbmQm",
        "outputId": "b9ae5e3a-f928-4084-fcd0-143968ae9479"
      },
      "outputs": [
        {
          "output_type": "stream",
          "name": "stdout",
          "text": [
            "Downloading https://www.cs.toronto.edu/~kriz/cifar-10-python.tar.gz to ./data/cifar-10-python.tar.gz\n"
          ]
        },
        {
          "output_type": "stream",
          "name": "stderr",
          "text": [
            "100%|██████████| 170498071/170498071 [00:02<00:00, 59049582.89it/s]\n"
          ]
        },
        {
          "output_type": "stream",
          "name": "stdout",
          "text": [
            "Extracting ./data/cifar-10-python.tar.gz to ./data\n",
            "Files already downloaded and verified\n"
          ]
        }
      ],
      "source": [
        "tfms=transforms.Compose([transforms.ToTensor()])\n",
        "train_data=CIFAR10(root='./data',train=True,transform=tfms,download=True)\n",
        "test_data=CIFAR10(root='./data',train=False,download=True,transform=tfms)"
      ]
    },
    {
      "cell_type": "code",
      "execution_count": 3,
      "metadata": {
        "colab": {
          "base_uri": "https://localhost:8080/"
        },
        "id": "cAOA1dMFbmQo",
        "outputId": "1721d38c-38b2-4fe5-e381-2b8520afe6d1"
      },
      "outputs": [
        {
          "output_type": "stream",
          "name": "stdout",
          "text": [
            "cpu\n"
          ]
        }
      ],
      "source": [
        "batch_size=32\n",
        "lr=.01\n",
        "karnal_size=3\n",
        "device=torch.device('cuda' if torch.cuda.is_available() else 'cpu')\n",
        "print(device)"
      ]
    },
    {
      "cell_type": "code",
      "execution_count": 4,
      "metadata": {
        "id": "CmoWbuLQbmQp"
      },
      "outputs": [],
      "source": [
        "train_loader=DataLoader(train_data,batch_size=batch_size,shuffle=False)\n",
        "test_loader=DataLoader(test_data,batch_size=batch_size,shuffle=False)"
      ]
    },
    {
      "cell_type": "code",
      "execution_count": 6,
      "metadata": {
        "colab": {
          "base_uri": "https://localhost:8080/",
          "height": 176
        },
        "id": "d8tyxMrSbmQq",
        "outputId": "6536ef6a-2192-4f0a-da8a-7d6d9b340e17"
      },
      "outputs": [
        {
          "output_type": "error",
          "ename": "AttributeError",
          "evalue": "'_SingleProcessDataLoaderIter' object has no attribute 'next'",
          "traceback": [
            "\u001b[0;31m---------------------------------------------------------------------------\u001b[0m",
            "\u001b[0;31mAttributeError\u001b[0m                            Traceback (most recent call last)",
            "\u001b[0;32m<ipython-input-6-9325afef5681>\u001b[0m in \u001b[0;36m<cell line: 2>\u001b[0;34m()\u001b[0m\n\u001b[1;32m      1\u001b[0m \u001b[0mtrainiter\u001b[0m\u001b[0;34m=\u001b[0m\u001b[0miter\u001b[0m\u001b[0;34m(\u001b[0m\u001b[0mtrain_loader\u001b[0m\u001b[0;34m)\u001b[0m\u001b[0;34m\u001b[0m\u001b[0;34m\u001b[0m\u001b[0m\n\u001b[0;32m----> 2\u001b[0;31m \u001b[0mimages\u001b[0m\u001b[0;34m,\u001b[0m\u001b[0mlabels\u001b[0m\u001b[0;34m=\u001b[0m\u001b[0mtrainiter\u001b[0m\u001b[0;34m.\u001b[0m\u001b[0mnext\u001b[0m\u001b[0;34m(\u001b[0m\u001b[0;34m)\u001b[0m\u001b[0;34m\u001b[0m\u001b[0;34m\u001b[0m\u001b[0m\n\u001b[0m\u001b[1;32m      3\u001b[0m \u001b[0mimages\u001b[0m\u001b[0;34m.\u001b[0m\u001b[0mshape\u001b[0m\u001b[0;34m\u001b[0m\u001b[0;34m\u001b[0m\u001b[0m\n",
            "\u001b[0;31mAttributeError\u001b[0m: '_SingleProcessDataLoaderIter' object has no attribute 'next'"
          ]
        }
      ],
      "source": [
        "trainiter=iter(train_loader)\n",
        "images,labels=trainiter.next()\n",
        "images.shape"
      ]
    },
    {
      "cell_type": "code",
      "execution_count": 7,
      "metadata": {
        "colab": {
          "base_uri": "https://localhost:8080/",
          "height": 141
        },
        "id": "DkexVZShbmQr",
        "outputId": "d3d3c5fc-4737-4b9c-ed71-99c7e0fd3bd9"
      },
      "outputs": [
        {
          "output_type": "error",
          "ename": "NameError",
          "evalue": "name 'images' is not defined",
          "traceback": [
            "\u001b[0;31m---------------------------------------------------------------------------\u001b[0m",
            "\u001b[0;31mNameError\u001b[0m                                 Traceback (most recent call last)",
            "\u001b[0;32m<ipython-input-7-f33fc83f4a35>\u001b[0m in \u001b[0;36m<cell line: 1>\u001b[0;34m()\u001b[0m\n\u001b[0;32m----> 1\u001b[0;31m \u001b[0mplt\u001b[0m\u001b[0;34m.\u001b[0m\u001b[0mimshow\u001b[0m\u001b[0;34m(\u001b[0m\u001b[0;34m(\u001b[0m\u001b[0mmake_grid\u001b[0m\u001b[0;34m(\u001b[0m\u001b[0mimages\u001b[0m\u001b[0;34m)\u001b[0m\u001b[0;34m.\u001b[0m\u001b[0mnumpy\u001b[0m\u001b[0;34m(\u001b[0m\u001b[0;34m)\u001b[0m\u001b[0;34m.\u001b[0m\u001b[0mtranspose\u001b[0m\u001b[0;34m(\u001b[0m\u001b[0;34m(\u001b[0m\u001b[0;36m1\u001b[0m\u001b[0;34m,\u001b[0m\u001b[0;36m2\u001b[0m\u001b[0;34m,\u001b[0m\u001b[0;36m0\u001b[0m\u001b[0;34m)\u001b[0m\u001b[0;34m)\u001b[0m\u001b[0;34m)\u001b[0m\u001b[0;34m)\u001b[0m\u001b[0;34m\u001b[0m\u001b[0;34m\u001b[0m\u001b[0m\n\u001b[0m",
            "\u001b[0;31mNameError\u001b[0m: name 'images' is not defined"
          ]
        }
      ],
      "source": [
        "plt.imshow((make_grid(images).numpy().transpose((1,2,0))))"
      ]
    },
    {
      "cell_type": "code",
      "execution_count": null,
      "metadata": {
        "id": "5Lcx8ZYObmQs"
      },
      "outputs": [],
      "source": [
        "def conv_layer(in_channels,out_channels,kernel_size):\n",
        "\n",
        "    return nn.Sequential(\n",
        "        nn.Conv2d(in_channels=in_channels,out_channels=out_channels,kernel_size=kernel_size),\n",
        "        nn.MaxPool2d(kernel_size=(2,2)),\n",
        "        nn.ReLU()\n",
        "\n",
        "        )"
      ]
    },
    {
      "cell_type": "code",
      "execution_count": null,
      "metadata": {
        "id": "kim3J5JKbmQt"
      },
      "outputs": [],
      "source": [
        "class Conv_net(nn.Module):\n",
        "    def __init__(self):\n",
        "        super(Conv_net, self).__init__()\n",
        "        self.layer1=conv_layer(3,16,3)\n",
        "        self.layer2=conv_layer(16,32,3)\n",
        "        self.layer3=conv_layer(32,64,3)\n",
        "        self.flatten=nn.Flatten()\n",
        "        self.fc1=nn.Linear(64*2*2,50)\n",
        "        self.fc2=nn.Linear(50,10)\n",
        "    def forward(self,x):\n",
        "        x=self.layer1(x)\n",
        "        x=self.layer2(x)\n",
        "        x=self.layer3(x)\n",
        "        x=self.flatten(x)\n",
        "        x=self.fc1(x)\n",
        "        x=self.fc2(x)\n",
        "        return x"
      ]
    },
    {
      "cell_type": "code",
      "execution_count": null,
      "metadata": {
        "id": "hzwRvAXpbmQu"
      },
      "outputs": [],
      "source": [
        "model=Conv_net()\n",
        "model"
      ]
    },
    {
      "cell_type": "code",
      "execution_count": null,
      "metadata": {
        "id": "xL4pOL5qbmQv"
      },
      "outputs": [],
      "source": [
        "summary(model=model,input_size=(3,32,32))"
      ]
    },
    {
      "cell_type": "code",
      "execution_count": null,
      "metadata": {
        "id": "B6cVxiXdbmQx"
      },
      "outputs": [],
      "source": [
        "loss_fn=nn.CrossEntropyLoss()\n",
        "optimizer=torch.optim.Adam(model.parameters(),lr=lr)"
      ]
    },
    {
      "cell_type": "code",
      "execution_count": null,
      "metadata": {
        "id": "ZgtYyWXpbmQy"
      },
      "outputs": [],
      "source": [
        "def train(mode,trainloader,loss_fn=None,optimizer=None,seed=32,EPOCHS=100):\n",
        "    torch.manual_seed(seed)\n",
        "    cost=[]\n",
        "\n",
        "    model.to(device)\n",
        "    for epoch in range(EPOCHS):\n",
        "        train_corr=[]\n",
        "        for idx,(img,lbl) in enumerate(trainloader):\n",
        "            ##1 Compute the Output\n",
        "            img,lbl=img.to(device),lbl.to(device)\n",
        "            yhat=model(img)\n",
        "\n",
        "            ##2 Compute the Loss\n",
        "            loss=loss_fn(yhat,lbl)\n",
        "\n",
        "            ##3 Compute the gradients\n",
        "            optimizer.zero_grad()\n",
        "            loss.backward()\n",
        "\n",
        "            ##4 update the model parameters\n",
        "            optimizer.step()\n",
        "            with torch.no_grad():\n",
        "                yhat=model(img)\n",
        "                loss=loss_fn(yhat,lbl)\n",
        "                core_lbl=(torch.argmax(F.softmax(yhat,dim=1),dim=1)==lbl).sum().item()\n",
        "                ##print('Model accuracy on this batch %.2f', core_lbl)\n",
        "                train_corr.append(core_lbl)\n",
        "        with torch.no_grad():\n",
        "            acc=sum(train_corr)/len(train_data)*100\n",
        "            print(train_corr)\n",
        "            print(train_data)\n",
        "            print(loss)\n",
        "            print(f'After {epoch+1} Model Training Accuracy {acc}')\n",
        "\n",
        "\n",
        "\n"
      ]
    },
    {
      "cell_type": "code",
      "execution_count": null,
      "metadata": {
        "id": "8G5vsPBwbmQz"
      },
      "outputs": [],
      "source": [
        "len(train_data)"
      ]
    },
    {
      "cell_type": "code",
      "execution_count": null,
      "metadata": {
        "id": "L0HmaGUgbmQ0"
      },
      "outputs": [],
      "source": [
        "model=Conv_net()\n",
        "cost=train(mode=model,trainloader=train_loader,loss_fn=loss_fn,optimizer=optimizer,EPOCHS=3)"
      ]
    }
  ],
  "metadata": {
    "interpreter": {
      "hash": "49b0e9b3f1c9b654737505dfea50bffce1d5ca53db0ce8682e44f17eb3ce11c2"
    },
    "kernelspec": {
      "display_name": "Python 3.7.11 ('DL')",
      "language": "python",
      "name": "python3"
    },
    "language_info": {
      "codemirror_mode": {
        "name": "ipython",
        "version": 3
      },
      "file_extension": ".py",
      "mimetype": "text/x-python",
      "name": "python",
      "nbconvert_exporter": "python",
      "pygments_lexer": "ipython3",
      "version": "3.7.11"
    },
    "orig_nbformat": 4,
    "colab": {
      "provenance": []
    }
  },
  "nbformat": 4,
  "nbformat_minor": 0
}